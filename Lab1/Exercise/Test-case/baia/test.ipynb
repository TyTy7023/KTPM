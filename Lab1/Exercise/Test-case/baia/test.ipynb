{
 "cells": [
  {
   "cell_type": "code",
   "execution_count": 5,
   "id": "946bcbf8",
   "metadata": {},
   "outputs": [
    {
     "name": "stdout",
     "output_type": "stream",
     "text": [
      "Overwriting baia_t1.inp\n"
     ]
    }
   ],
   "source": [
    "%%writefile baia_t1.inp\n",
    "5"
   ]
  },
  {
   "cell_type": "code",
   "execution_count": 13,
   "id": "5f699540",
   "metadata": {},
   "outputs": [
    {
     "name": "stdout",
     "output_type": "stream",
     "text": [
      "Overwriting baia_t2.inp\n"
     ]
    }
   ],
   "source": [
    "%%writefile baia_t2.inp\n",
    "11"
   ]
  },
  {
   "cell_type": "code",
   "execution_count": 16,
   "id": "1ec8c5f4",
   "metadata": {},
   "outputs": [
    {
     "name": "stdout",
     "output_type": "stream",
     "text": [
      "\"Expected: 5\"\n",
      "f1(5) = -5\n",
      "\"Expected: 3\"\n",
      "f1(11) = 22\n"
     ]
    }
   ],
   "source": [
    "!g++ baia.cpp -o baia\n",
    "!baia.exe <baia_t1.inp>out1.txt\n",
    "!echo \"Expected: 5\"\n",
    "!type out1.txt\n",
    "!echo \"Expected: 3\"\n",
    "!baia.exe <baia_t2.inp>out2.txt\n",
    "!type out2.txt  "
   ]
  }
 ],
 "metadata": {
  "kernelspec": {
   "display_name": "Python 3",
   "language": "python",
   "name": "python3"
  },
  "language_info": {
   "codemirror_mode": {
    "name": "ipython",
    "version": 3
   },
   "file_extension": ".py",
   "mimetype": "text/x-python",
   "name": "python",
   "nbconvert_exporter": "python",
   "pygments_lexer": "ipython3",
   "version": "3.11.9"
  }
 },
 "nbformat": 4,
 "nbformat_minor": 5
}
