{
 "cells": [
  {
   "cell_type": "code",
   "execution_count": null,
   "id": "946bcbf8",
   "metadata": {},
   "outputs": [
    {
     "name": "stdout",
     "output_type": "stream",
     "text": [
      "Overwriting baie_t2.inp\n"
     ]
    }
   ],
   "source": [
    "%%writefile baie_t1.inp\n",
    "2 3 5"
   ]
  },
  {
   "cell_type": "code",
   "execution_count": null,
   "id": "5f699540",
   "metadata": {},
   "outputs": [
    {
     "name": "stdout",
     "output_type": "stream",
     "text": [
      "Overwriting baie_t1.inp\n"
     ]
    }
   ],
   "source": [
    "%%writefile baie_t2.inp\n",
    "3 3 3"
   ]
  },
  {
   "cell_type": "code",
   "execution_count": 8,
   "id": "1ec8c5f4",
   "metadata": {},
   "outputs": [
    {
     "name": "stdout",
     "output_type": "stream",
     "text": [
      "\"Expected: 5\"\n",
      "Max: 5\n",
      "\"Expected: 3\"\n",
      "Max: 0\n"
     ]
    }
   ],
   "source": [
    "!g++ baie.cpp -o baie\n",
    "!baie.exe <baie_t1.inp>out1.txt\n",
    "!echo \"Expected: 5\"\n",
    "!type out1.txt\n",
    "!echo \"Expected: 3\"\n",
    "!baie.exe <baie_t2.inp>out2.txt\n",
    "!type out2.txt"
   ]
  }
 ],
 "metadata": {
  "kernelspec": {
   "display_name": "Python 3",
   "language": "python",
   "name": "python3"
  },
  "language_info": {
   "codemirror_mode": {
    "name": "ipython",
    "version": 3
   },
   "file_extension": ".py",
   "mimetype": "text/x-python",
   "name": "python",
   "nbconvert_exporter": "python",
   "pygments_lexer": "ipython3",
   "version": "3.11.9"
  }
 },
 "nbformat": 4,
 "nbformat_minor": 5
}
