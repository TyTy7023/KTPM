{
 "cells": [
  {
   "cell_type": "code",
   "execution_count": 51,
   "id": "f8474ac6",
   "metadata": {},
   "outputs": [],
   "source": [
    "import os\n",
    "\n",
    "if not os.path.exists(\"input\"):\n",
    "    os.makedirs(\"input\")\n",
    "\n",
    "inputs = [\n",
    "    (\"baie_t1.inp\", \"2 3 5\", \"5\"),\n",
    "    (\"baie_t2.inp\", \"1 3 2\", \"3\"),\n",
    "    (\"baie_t3.inp\", \"3 2 1\", \"3\"),\n",
    "    (\"baie_t4.inp\", \"-3 -2 -1\", \"-1\"),\n",
    "    (\"baie_t5.inp\", \"3 3 1\", \"3\"),\n",
    "    (\"baie_t6.inp\", \"3 1 3\", \"3\"),\n",
    "    (\"baie_t7.inp\", \"1 3 3\", \"3\"),\n",
    "    (\"baie_t8.inp\", \"3 3 3\", \"3\"),\n",
    "]\n",
    "\n",
    "for filename, content, expected in inputs:\n",
    "    with open(\"input/\" + filename, \"w\") as f:\n",
    "        f.write(content + \"\\n\")\n"
   ]
  },
  {
   "cell_type": "code",
   "execution_count": null,
   "id": "d1abe402",
   "metadata": {},
   "outputs": [
    {
     "name": "stdout",
     "output_type": "stream",
     "text": [
      "Test 1: Input = 2 3 5 ; Output = 5 ; Expected = 5\n",
      "Test 2: Input = 1 3 2 ; Output = 3 ; Expected = 3\n",
      "Test 3: Input = 3 2 1 ; Output = 3 ; Expected = 3\n",
      "Test 4: Input = -3 -2 -1 ; Output = -1 ; Expected = -1\n",
      "Test 5: Input = 3 3 1 ; Output = 0 ; Expected = 3\n",
      "Test 6: Input = 3 1 3 ; Output = 0 ; Expected = 3\n",
      "Test 7: Input = 1 3 3 ; Output = 0 ; Expected = 3\n",
      "Test 8: Input = 3 3 3 ; Output = 0 ; Expected = 3\n"
     ]
    }
   ],
   "source": [
    "import os\n",
    "\n",
    "# biên dịch\n",
    "os.system(\"g++ baie.cpp -o baie\")\n",
    "\n",
    "if not os.path.exists(\"output\"):\n",
    "    os.makedirs(\"output\", exist_ok=True)\n",
    "\n",
    "# file chung để ghi tất cả output\n",
    "with open(\"output/out.txt\", \"w\") as outfile:\n",
    "    for i in range(1, 9):\n",
    "        # chạy chương trình và lấy output\n",
    "        os.system(f\"baie.exe < input/baie_t{i}.inp > output/temp.txt\")\n",
    "        with open(\"output/temp.txt\") as f:\n",
    "            output = f.read().strip()\n",
    "        \n",
    "        # tạo dòng log\n",
    "        line = f\"Test {i}: Input = {inputs[i-1][1]} ; Output = {output} ; Expected = {inputs[i-1][2]}\\n\"\n",
    "\n",
    "        # in ra màn hình và ghi vào out.txt\n",
    "        print(line, end=\"\")\n",
    "        outfile.write(line)\n",
    "    # đóng file out.txt\n",
    "    outfile.close()\n",
    "\n",
    "# xóa file tạm\n",
    "if os.path.exists(\"output/temp.txt\"):\n",
    "    os.remove(\"output/temp.txt\")\n"
   ]
  },
  {
   "cell_type": "code",
   "execution_count": null,
   "id": "535278c3",
   "metadata": {},
   "outputs": [
    {
     "name": "stdout",
     "output_type": "stream",
     "text": [
      "Test 1: Input = 2 3 5 ; Output = 5 ; Expected = 5\n",
      "Test 2: Input = 1 3 2 ; Output = 3 ; Expected = 3\n",
      "Test 3: Input = 3 2 1 ; Output = 3 ; Expected = 3\n",
      "Test 4: Input = -3 -2 -1 ; Output = -1 ; Expected = -1\n",
      "Test 5: Input = 3 3 1 ; Output = 0 ; Expected = 3\n",
      "Test 6: Input = 3 1 3 ; Output = 0 ; Expected = 3\n",
      "Test 7: Input = 1 3 3 ; Output = 0 ; Expected = 3\n",
      "Test 8: Input = 3 3 3 ; Output = 0 ; Expected = 3\n"
     ]
    }
   ],
   "source": [
    "import subprocess\n",
    "\n",
    "# ghi tất cả input vào 1 file\n",
    "all_inputs = [\n",
    "    (\"2 3 5\", \"5\"),\n",
    "    (\"1 3 2\", \"3\"),\n",
    "    (\"3 2 1\", \"3\"),\n",
    "    (\"-3 -2 -1\", \"-1\"),\n",
    "    (\"3 3 1\", \"3\"),\n",
    "    (\"3 1 3\", \"3\"),\n",
    "    (\"1 3 3\", \"3\"),\n",
    "    (\"3 3 3\", \"3\"),\n",
    "]\n",
    "\n",
    "with open(\"input/all.inp\", \"w\") as f:\n",
    "    for line, expected in all_inputs:\n",
    "        f.write(line + \"\\n\")\n",
    "\n",
    "# biên dịch\n",
    "subprocess.run([\"g++\", \"baie.cpp\", \"-o\", \"baie\"], check=True)\n",
    "\n",
    "with open(\"output/out.txt\", \"w\") as outfile:\n",
    "    for i, (content, expected) in enumerate(all_inputs, start=1):\n",
    "        # chạy chương trình, truyền từng test case qua stdin\n",
    "        output = subprocess.check_output(\"./baie.exe\", input=content, text=True).strip()\n",
    "        line = f\"Test {i}: Input = {content} ; Output = {output} ; Expected = {expected}\\n\"\n",
    "        print(line, end=\"\")\n",
    "        outfile.write(line)\n"
   ]
  }
 ],
 "metadata": {
  "kernelspec": {
   "display_name": "Python 3",
   "language": "python",
   "name": "python3"
  },
  "language_info": {
   "codemirror_mode": {
    "name": "ipython",
    "version": 3
   },
   "file_extension": ".py",
   "mimetype": "text/x-python",
   "name": "python",
   "nbconvert_exporter": "python",
   "pygments_lexer": "ipython3",
   "version": "3.11.9"
  }
 },
 "nbformat": 4,
 "nbformat_minor": 5
}
