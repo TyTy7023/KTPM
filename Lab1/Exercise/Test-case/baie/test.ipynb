{
 "cells": [
  {
   "cell_type": "code",
   "execution_count": 1,
   "id": "946bcbf8",
   "metadata": {},
   "outputs": [
    {
     "name": "stdout",
     "output_type": "stream",
     "text": [
      "Overwriting baie_t1.inp\n"
     ]
    }
   ],
   "source": [
    "%%writefile baie_t1.inp\n",
    "2 3 5"
   ]
  },
  {
   "cell_type": "code",
   "execution_count": 2,
   "id": "5f699540",
   "metadata": {},
   "outputs": [
    {
     "name": "stdout",
     "output_type": "stream",
     "text": [
      "Overwriting baie_t2.inp\n"
     ]
    }
   ],
   "source": [
    "%%writefile baie_t2.inp\n",
    "1 3 2"
   ]
  },
  {
   "cell_type": "code",
   "execution_count": 3,
   "id": "12a4ed93",
   "metadata": {},
   "outputs": [
    {
     "name": "stdout",
     "output_type": "stream",
     "text": [
      "Writing baie_t3.inp\n"
     ]
    }
   ],
   "source": [
    "%%writefile baie_t3.inp\n",
    "3 2 1"
   ]
  },
  {
   "cell_type": "code",
   "execution_count": 4,
   "id": "4ace21fa",
   "metadata": {},
   "outputs": [
    {
     "name": "stdout",
     "output_type": "stream",
     "text": [
      "Writing baie_t4.inp\n"
     ]
    }
   ],
   "source": [
    "%%writefile baie_t4.inp\n",
    "-3 -2 -1"
   ]
  },
  {
   "cell_type": "code",
   "execution_count": 5,
   "id": "3ee58722",
   "metadata": {},
   "outputs": [
    {
     "name": "stdout",
     "output_type": "stream",
     "text": [
      "Writing baie_t5.inp\n"
     ]
    }
   ],
   "source": [
    "%%writefile baie_t5.inp\n",
    "3 3 1"
   ]
  },
  {
   "cell_type": "code",
   "execution_count": 6,
   "id": "b7f8f2ab",
   "metadata": {},
   "outputs": [
    {
     "name": "stdout",
     "output_type": "stream",
     "text": [
      "Writing baie_t6.inp\n"
     ]
    }
   ],
   "source": [
    "%%writefile baie_t6.inp\n",
    "3 1 3"
   ]
  },
  {
   "cell_type": "code",
   "execution_count": 7,
   "id": "5c78a8cc",
   "metadata": {},
   "outputs": [
    {
     "name": "stdout",
     "output_type": "stream",
     "text": [
      "Writing baie_t7.inp\n"
     ]
    }
   ],
   "source": [
    "%%writefile baie_t7.inp\n",
    "1 3 3 "
   ]
  },
  {
   "cell_type": "code",
   "execution_count": 8,
   "id": "206a1c54",
   "metadata": {},
   "outputs": [
    {
     "name": "stdout",
     "output_type": "stream",
     "text": [
      "Writing baie_t8.inp\n"
     ]
    }
   ],
   "source": [
    "%%writefile baie_t8.inp\n",
    "3 3 3"
   ]
  },
  {
   "cell_type": "code",
   "execution_count": 9,
   "id": "1ec8c5f4",
   "metadata": {},
   "outputs": [
    {
     "name": "stdout",
     "output_type": "stream",
     "text": [
      "\"Expected: 5\"\n",
      "Max: 5\n",
      "\"Expected: 3\"\n",
      "Max: 3\n",
      "\"Expected: 3\"\n",
      "Max: 3\n",
      "\"Expected: -1\"\n",
      "Max: -1\n",
      "\"Expected: 3\"\n",
      "Max: 0\n",
      "\"Expected: 3\"\n",
      "Max: 0\n",
      "\"Expected: 3\"\n",
      "Max: 0\n",
      "\"Expected: 3\"\n",
      "Max: 0\n"
     ]
    }
   ],
   "source": [
    "!g++ baie.cpp -o baie\n",
    "!baie.exe <baie_t1.inp>out1.txt\n",
    "!echo \"Expected: 5\"\n",
    "!type out1.txt\n",
    "!echo \"Expected: 3\"\n",
    "!baie.exe <baie_t2.inp>out2.txt\n",
    "!type out2.txt\n",
    "!echo \"Expected: 3\"\n",
    "!baie.exe <baie_t3.inp>out3.txt>out3.txt\n",
    "!type out3.txt\n",
    "!echo \"Expected: -1\"\n",
    "!baie.exe <baie_t4.inp>out4.txt>out4.txt\n",
    "!type out4.txt\n",
    "!echo \"Expected: 3\"\n",
    "!baie.exe <baie_t5.inp>out5.txt>out5.txt\n",
    "!type out5.txt\n",
    "!echo \"Expected: 3\"\n",
    "!baie.exe <baie_t6.inp>out6.txt>out6.txt\n",
    "!type out6.txt\n",
    "!echo \"Expected: 3\"\n",
    "!baie.exe <baie_t7.inp>out7.txt>out7.txt\n",
    "!type out7.txt\n",
    "!echo \"Expected: 3\"\n",
    "!baie.exe <baie_t8.inp>out8.txt>out8.txt\n",
    "!type out8.txt"
   ]
  }
 ],
 "metadata": {
  "kernelspec": {
   "display_name": "Python 3",
   "language": "python",
   "name": "python3"
  },
  "language_info": {
   "codemirror_mode": {
    "name": "ipython",
    "version": 3
   },
   "file_extension": ".py",
   "mimetype": "text/x-python",
   "name": "python",
   "nbconvert_exporter": "python",
   "pygments_lexer": "ipython3",
   "version": "3.11.9"
  }
 },
 "nbformat": 4,
 "nbformat_minor": 5
}
