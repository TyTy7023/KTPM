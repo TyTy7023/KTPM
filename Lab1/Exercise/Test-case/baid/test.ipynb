{
 "cells": [
  {
   "cell_type": "code",
   "execution_count": 11,
   "id": "946bcbf8",
   "metadata": {},
   "outputs": [
    {
     "name": "stdout",
     "output_type": "stream",
     "text": [
      "Overwriting baid_t1.inp\n"
     ]
    }
   ],
   "source": [
    "%%writefile baid_t1.inp\n",
    "0"
   ]
  },
  {
   "cell_type": "code",
   "execution_count": 12,
   "id": "a579bcaf",
   "metadata": {},
   "outputs": [
    {
     "name": "stdout",
     "output_type": "stream",
     "text": [
      "Overwriting baid_t2.inp\n"
     ]
    }
   ],
   "source": [
    "%%writefile baid_t2.inp\n",
    "1"
   ]
  },
  {
   "cell_type": "code",
   "execution_count": 13,
   "id": "958bbb90",
   "metadata": {},
   "outputs": [
    {
     "name": "stdout",
     "output_type": "stream",
     "text": [
      "Overwriting baid_t3.inp\n"
     ]
    }
   ],
   "source": [
    "%%writefile baid_t3.inp\n",
    "-1"
   ]
  },
  {
   "cell_type": "code",
   "execution_count": 14,
   "id": "1ec8c5f4",
   "metadata": {},
   "outputs": [
    {
     "name": "stdout",
     "output_type": "stream",
     "text": [
      "\"Expected: 5\"\n",
      "f3(0) = 0\n",
      "\"Expected: 3\"\n",
      "f3(1) = 2\n",
      "\"Expected: 0\"\n",
      "f3(-1) = -2\n"
     ]
    }
   ],
   "source": [
    "!g++ baid.cpp -o baid\n",
    "!baid.exe <baid_t1.inp>out1.txt\n",
    "!echo \"Expected: 5\"\n",
    "!type out1.txt\n",
    "!echo \"Expected: 3\"\n",
    "!baid.exe <baid_t2.inp>out2.txt\n",
    "!type out2.txt  \n",
    "!echo \"Expected: 0\"\n",
    "!baid.exe <baid_t3.inp>out3.txt\n",
    "!type out3.txt"
   ]
  }
 ],
 "metadata": {
  "kernelspec": {
   "display_name": "Python 3",
   "language": "python",
   "name": "python3"
  },
  "language_info": {
   "codemirror_mode": {
    "name": "ipython",
    "version": 3
   },
   "file_extension": ".py",
   "mimetype": "text/x-python",
   "name": "python",
   "nbconvert_exporter": "python",
   "pygments_lexer": "ipython3",
   "version": "3.11.9"
  }
 },
 "nbformat": 4,
 "nbformat_minor": 5
}
