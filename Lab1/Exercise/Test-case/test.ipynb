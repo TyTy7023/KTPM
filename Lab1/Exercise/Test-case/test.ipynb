{
 "cells": [
  {
   "cell_type": "code",
   "execution_count": 35,
   "id": "535278c3",
   "metadata": {},
   "outputs": [],
   "source": [
    "import subprocess\n",
    "import os\n",
    "\n",
    "exname = ['a', 'b', 'c', 'd', 'e']\n",
    "\n",
    "# ghi tất cả input vào 1 file\n",
    "a_tc = [(5, -5), (11, 22)]\n",
    "b_tc = [(11, 22),(9, 18), (-1, -2)]\n",
    "c_tc = [(9, 18), (1, -1), (11, 22)]\n",
    "d_tc = [(2,4)]\n",
    "e_tc = [\n",
    "    (\"2 3 5\", \"5\"),\n",
    "    (\"1 3 2\", \"3\"),\n",
    "    (\"3 2 1\", \"3\"),\n",
    "    (\"-3 -2 -1\", \"-1\"),\n",
    "    (\"3 3 1\", \"3\"),\n",
    "    (\"3 1 3\", \"3\"),\n",
    "    (\"1 3 3\", \"3\"),\n",
    "    (\"3 3 3\", \"3\"),\n",
    "]\n",
    "all_inputs = [a_tc, b_tc, c_tc, d_tc, e_tc]"
   ]
  },
  {
   "cell_type": "code",
   "execution_count": 36,
   "id": "2af25c60",
   "metadata": {},
   "outputs": [],
   "source": [
    "# Tạo thư mục lưu trữ file input\n",
    "for ex, tcs in zip(exname, all_inputs):\n",
    "    inputs = []\n",
    "\n",
    "    # Tạo các file input \n",
    "    for i, (content, expected) in enumerate(tcs, start=1):\n",
    "        filename = f\"ex_{ex}.inp\"\n",
    "        inputs.append((filename, content, expected))\n",
    "    \n",
    "    if not os.path.exists(f\"input/{ex}\"):\n",
    "        os.makedirs(f\"input/\", exist_ok=True)\n",
    "    if os.path.exists(f\"input/{filename}\"):\n",
    "        os.remove(f\"input/{filename}\")\n",
    "\n",
    "    # thêm input vào từng file tương ứng\n",
    "    for filename, content, expected in inputs:\n",
    "        with open(f\"input/\" + filename, \"a\") as f:\n",
    "            f.write(str(content) + \"\\n\")\n"
   ]
  },
  {
   "cell_type": "code",
   "execution_count": 37,
   "id": "f24cedd1",
   "metadata": {},
   "outputs": [
    {
     "name": "stdout",
     "output_type": "stream",
     "text": [
      "Running test case for ex_a.exe...\n",
      "Test 1: Input = 5 ; Output = -5 ; Expected = -5; Result: PASSED\n",
      "Test 2: Input = 11 ; Output = 22 ; Expected = 22; Result: PASSED\n",
      "----------------------------------------\n",
      "\n",
      "Running test case for ex_b.exe...\n",
      "Test 1: Input = 11 ; Output = 22 ; Expected = 22; Result: PASSED\n",
      "Test 2: Input = 9 ; Output = -9 ; Expected = 18; Result: FAILED\n",
      "Test 3: Input = -1 ; Output = -2 ; Expected = -2; Result: PASSED\n",
      "----------------------------------------\n",
      "\n",
      "Running test case for ex_c.exe...\n",
      "Test 1: Input = 9 ; Output = 18 ; Expected = 18; Result: PASSED\n",
      "Test 2: Input = 1 ; Output = 2 ; Expected = -1; Result: FAILED\n",
      "Test 3: Input = 11 ; Output = 22 ; Expected = 22; Result: PASSED\n",
      "----------------------------------------\n",
      "\n",
      "Running test case for ex_d.exe...\n",
      "Test 1: Input = 2 ; Output = 4 ; Expected = 4; Result: PASSED\n",
      "----------------------------------------\n",
      "\n",
      "Running test case for ex_e.exe...\n",
      "Test 1: Input = 2 3 5 ; Output = 5 ; Expected = 5; Result: PASSED\n",
      "Test 2: Input = 1 3 2 ; Output = 3 ; Expected = 3; Result: PASSED\n",
      "Test 3: Input = 3 2 1 ; Output = 3 ; Expected = 3; Result: PASSED\n",
      "Test 4: Input = -3 -2 -1 ; Output = -1 ; Expected = -1; Result: PASSED\n",
      "Test 5: Input = 3 3 1 ; Output = 0 ; Expected = 3; Result: FAILED\n",
      "Test 6: Input = 3 1 3 ; Output = 0 ; Expected = 3; Result: FAILED\n",
      "Test 7: Input = 1 3 3 ; Output = 0 ; Expected = 3; Result: FAILED\n",
      "Test 8: Input = 3 3 3 ; Output = 0 ; Expected = 3; Result: FAILED\n",
      "----------------------------------------\n",
      "\n"
     ]
    }
   ],
   "source": [
    "for ex, tcs in zip(exname, all_inputs):\n",
    "    with open(f\"output/out{ex}.txt\", \"w\") as outfile:\n",
    "\n",
    "        # biên dịch từng file cpp\n",
    "        subprocess.run([\"g++\", f\"exercises/ex_{ex}.cpp\", \"-o\", f\"bin/ex_{ex}.exe\"], check=True)\n",
    "\n",
    "        print(f\"Running test case for ex_{ex}.exe...\")\n",
    "\n",
    "        # chạy từng test case\n",
    "        for i, (content, expected) in enumerate(tcs, start=1):\n",
    "            # chạy file exe với input từ file inp\n",
    "            output = subprocess.check_output(\n",
    "                f\"bin/ex_{ex}.exe\",\n",
    "                input=str(content),\n",
    "                text=True\n",
    "            ).strip()\n",
    "\n",
    "            line = f\"Test {i}: Input = {content} ; Output = {output} ; Expected = {expected}; \"\n",
    "            print(line, end=\"\")\n",
    "            outfile.write(line + \"\\n\")\n",
    "            if int(output) == int(expected):\n",
    "                result = \"PASSED\"\n",
    "            else:\n",
    "                result = \"FAILED\"\n",
    "            print(f\"Result: {result}\")\n",
    "\n",
    "        print(\"-\" * 40 + \"\\n\")\n"
   ]
  }
 ],
 "metadata": {
  "kernelspec": {
   "display_name": "Python 3",
   "language": "python",
   "name": "python3"
  },
  "language_info": {
   "codemirror_mode": {
    "name": "ipython",
    "version": 3
   },
   "file_extension": ".py",
   "mimetype": "text/x-python",
   "name": "python",
   "nbconvert_exporter": "python",
   "pygments_lexer": "ipython3",
   "version": "3.11.9"
  }
 },
 "nbformat": 4,
 "nbformat_minor": 5
}
