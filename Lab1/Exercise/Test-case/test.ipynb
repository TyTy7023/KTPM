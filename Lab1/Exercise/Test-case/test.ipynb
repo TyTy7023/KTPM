{
 "cells": [
  {
   "cell_type": "code",
   "execution_count": 28,
   "id": "535278c3",
   "metadata": {},
   "outputs": [],
   "source": [
    "import subprocess\n",
    "import os\n",
    "from pathlib import Path"
   ]
  },
  {
   "cell_type": "code",
   "execution_count": 29,
   "id": "d47b8bc1",
   "metadata": {},
   "outputs": [],
   "source": [
    "ex_name = ['a', 'b', 'c', 'd', 'e']\n",
    "\n",
    "# ghi tất cả input vào 1 file\n",
    "# tuple format: (testcase, expected_output)\n",
    "a_tc = [(5, -5), (11, 22)]\n",
    "b_tc = [(11, 22),(9, 18), (-1, -2)]\n",
    "c_tc = [(9, 18), (1, -1), (11, 22)]\n",
    "d_tc = [(2,4)]\n",
    "e_tc = [\n",
    "    (\"2 3 5\", \"5\"),\n",
    "    (\"1 3 2\", \"3\"),\n",
    "    (\"3 2 1\", \"3\"),\n",
    "    (\"-3 -2 -1\", \"-1\"),\n",
    "    (\"3 3 1\", \"3\"),\n",
    "    (\"3 1 3\", \"3\"),\n",
    "    (\"1 3 3\", \"3\"),\n",
    "    (\"3 3 3\", \"3\"),\n",
    "]\n",
    "all_inputs = [a_tc, b_tc, c_tc, d_tc, e_tc]"
   ]
  },
  {
   "cell_type": "code",
   "execution_count": 30,
   "id": "4678f946",
   "metadata": {},
   "outputs": [],
   "source": [
    "# Tạo thư mục lưu trữ file input\n",
    "in_dir = Path(\"input\")\n",
    "in_dir.mkdir(exist_ok=True)\n",
    "\n",
    "# Tạo thư mục lưu trữ file output\n",
    "out_dir = Path(\"output\")\n",
    "out_dir.mkdir(exist_ok=True)\n",
    "\n",
    "# Thư mục lưu trữ file exe\n",
    "bin_dir = Path(\"bin\")\n",
    "bin_dir.mkdir(exist_ok=True)"
   ]
  },
  {
   "cell_type": "code",
   "execution_count": 31,
   "id": "2af25c60",
   "metadata": {},
   "outputs": [],
   "source": [
    "for ex, tcs in zip(ex_name, all_inputs):\n",
    "    infile = in_dir / f\"ex_{ex}.inp\"\n",
    "\n",
    "    # xóa file cũ để tránh trùng dữ liệu\n",
    "    if infile.exists():\n",
    "        infile.unlink()\n",
    "\n",
    "    # ghi toàn bộ test case vào 1 file duy nhất\n",
    "    with open(infile, \"a\") as f:\n",
    "        for content, expected in tcs:\n",
    "            f.write(str(content) + \"\\n\")\n"
   ]
  },
  {
   "cell_type": "code",
   "execution_count": 32,
   "id": "f24cedd1",
   "metadata": {},
   "outputs": [],
   "source": [
    "\n",
    "\n",
    "def test_code(ex, tcs):    \n",
    "    out_file = out_dir / f\"out{ex}.txt\"\n",
    "    exe_file = bin_dir / f\"ex_{ex}.exe\"\n",
    "    cpp_file = Path(\"exercises\") / f\"ex_{ex}.cpp\"\n",
    "    \n",
    "    # Biên dịch từng file cpp\n",
    "    subprocess.run(\n",
    "        [\"g++\", str(cpp_file), \"-o\", str(exe_file)],\n",
    "        check=True\n",
    "    )\n",
    "\n",
    "    print(f\"Running test cases for {exe_file}...\")\n",
    "    \n",
    "    with open(out_file, \"w\") as outfile:\n",
    "        # Chạy từng test case\n",
    "        for i, (content, expected) in enumerate(tcs, start=1):\n",
    "            output = subprocess.check_output(\n",
    "                str(exe_file),\n",
    "                input=str(content),\n",
    "                text=True\n",
    "            ).strip()\n",
    "\n",
    "            result = \"PASSED\" if int(output) == int(expected) else \"FAILED\"\n",
    "            line = f\"Test {i}: Input = {content} ; Output = {output} ; Expected = {expected}; Result = {result}\"\n",
    "\n",
    "            print(line)\n",
    "            outfile.write(line + \"\\n\")\n",
    "\n",
    "        print(\"\\n\" + \"-\" * 40 )\n"
   ]
  },
  {
   "cell_type": "code",
   "execution_count": null,
   "id": "db38938b",
   "metadata": {},
   "outputs": [
    {
     "name": "stdout",
     "output_type": "stream",
     "text": [
      "Running test cases for bin\\ex_a.exe...\n",
      "Test 1: Input = 5 ; Output = -5 ; Expected = -5; Result = PASSED\n",
      "Test 2: Input = 11 ; Output = 22 ; Expected = 22; Result = PASSED\n",
      "\n",
      "----------------------------------------\n",
      "Running test cases for bin\\ex_b.exe...\n",
      "Test 1: Input = 11 ; Output = 22 ; Expected = 22; Result = PASSED\n",
      "Test 2: Input = 9 ; Output = -9 ; Expected = 18; Result = FAILED\n",
      "Test 3: Input = -1 ; Output = -2 ; Expected = -2; Result = PASSED\n",
      "\n",
      "----------------------------------------\n",
      "Running test cases for bin\\ex_c.exe...\n",
      "Test 1: Input = 9 ; Output = 18 ; Expected = 18; Result = PASSED\n",
      "Test 2: Input = 1 ; Output = 2 ; Expected = -1; Result = FAILED\n",
      "Test 3: Input = 11 ; Output = 22 ; Expected = 22; Result = PASSED\n",
      "\n",
      "----------------------------------------\n",
      "Running test cases for bin\\ex_d.exe...\n",
      "Test 1: Input = 2 ; Output = 4 ; Expected = 4; Result = PASSED\n",
      "\n",
      "----------------------------------------\n",
      "Running test cases for bin\\ex_e.exe...\n",
      "Test 1: Input = 2 3 5 ; Output = 5 ; Expected = 5; Result = PASSED\n",
      "Test 2: Input = 1 3 2 ; Output = 3 ; Expected = 3; Result = PASSED\n",
      "Test 3: Input = 3 2 1 ; Output = 3 ; Expected = 3; Result = PASSED\n",
      "Test 4: Input = -3 -2 -1 ; Output = -1 ; Expected = -1; Result = PASSED\n",
      "Test 5: Input = 3 3 1 ; Output = 0 ; Expected = 3; Result = FAILED\n",
      "Test 6: Input = 3 1 3 ; Output = 0 ; Expected = 3; Result = FAILED\n",
      "Test 7: Input = 1 3 3 ; Output = 0 ; Expected = 3; Result = FAILED\n",
      "Test 8: Input = 3 3 3 ; Output = 0 ; Expected = 3; Result = FAILED\n",
      "\n",
      "----------------------------------------\n"
     ]
    }
   ],
   "source": [
    "# Test tất cả các bài tập\n",
    "for ex, tcs in zip(ex_name, all_inputs):\n",
    "    test_code(ex, tcs)"
   ]
  }
 ],
 "metadata": {
  "kernelspec": {
   "display_name": "Python 3",
   "language": "python",
   "name": "python3"
  },
  "language_info": {
   "codemirror_mode": {
    "name": "ipython",
    "version": 3
   },
   "file_extension": ".py",
   "mimetype": "text/x-python",
   "name": "python",
   "nbconvert_exporter": "python",
   "pygments_lexer": "ipython3",
   "version": "3.11.9"
  }
 },
 "nbformat": 4,
 "nbformat_minor": 5
}
