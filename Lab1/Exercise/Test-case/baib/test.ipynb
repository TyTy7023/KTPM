{
 "cells": [
  {
   "cell_type": "code",
   "execution_count": 1,
   "id": "946bcbf8",
   "metadata": {},
   "outputs": [
    {
     "name": "stdout",
     "output_type": "stream",
     "text": [
      "Writing baib_t1.inp\n"
     ]
    }
   ],
   "source": [
    "%%writefile baib_t1.inp\n",
    "5"
   ]
  },
  {
   "cell_type": "code",
   "execution_count": 2,
   "id": "5f699540",
   "metadata": {},
   "outputs": [
    {
     "name": "stdout",
     "output_type": "stream",
     "text": [
      "Writing baib_t2.inp\n"
     ]
    }
   ],
   "source": [
    "%%writefile baib_t2.inp\n",
    "11"
   ]
  },
  {
   "cell_type": "code",
   "execution_count": 6,
   "id": "e9bb3ead",
   "metadata": {},
   "outputs": [
    {
     "name": "stdout",
     "output_type": "stream",
     "text": [
      "Overwriting baib_t3.inp\n"
     ]
    }
   ],
   "source": [
    "%%writefile baib_t3.inp\n",
    "-1"
   ]
  },
  {
   "cell_type": "code",
   "execution_count": 7,
   "id": "1ec8c5f4",
   "metadata": {},
   "outputs": [
    {
     "name": "stdout",
     "output_type": "stream",
     "text": [
      "\"Expected: 5\"\n",
      "f1(5) = -5\n",
      "\"Expected: 3\"\n",
      "f1(11) = 22\n",
      "\"Expected: 0\"\n",
      "f1(-1) = -2\n"
     ]
    }
   ],
   "source": [
    "!g++ baib.cpp -o baib\n",
    "!baib.exe <baib_t1.inp>out1.txt\n",
    "!echo \"Expected: 5\"\n",
    "!type out1.txt\n",
    "!echo \"Expected: 3\"\n",
    "!baib.exe <baib_t2.inp>out2.txt\n",
    "!type out2.txt  \n",
    "!echo \"Expected: 0\"\n",
    "!baib.exe <baib_t3.inp>out3.txt>out3.txt\n",
    "!type out3.txt"
   ]
  }
 ],
 "metadata": {
  "kernelspec": {
   "display_name": "Python 3",
   "language": "python",
   "name": "python3"
  },
  "language_info": {
   "codemirror_mode": {
    "name": "ipython",
    "version": 3
   },
   "file_extension": ".py",
   "mimetype": "text/x-python",
   "name": "python",
   "nbconvert_exporter": "python",
   "pygments_lexer": "ipython3",
   "version": "3.11.9"
  }
 },
 "nbformat": 4,
 "nbformat_minor": 5
}
