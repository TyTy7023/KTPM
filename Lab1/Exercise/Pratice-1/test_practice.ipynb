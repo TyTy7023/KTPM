{
 "cells": [
  {
   "cell_type": "code",
   "execution_count": 19,
   "id": "45169133",
   "metadata": {},
   "outputs": [],
   "source": [
    "import subprocess\n",
    "from pathlib import Path\n",
    "import pandas as pd"
   ]
  },
  {
   "cell_type": "code",
   "execution_count": 20,
   "id": "d9758a3f",
   "metadata": {},
   "outputs": [],
   "source": [
    "# tuple format: (testcase, expected_output)\n",
    "tcs = [\n",
    "    (\"0 0 0\", \" Infinite solutions.\"),\n",
    "    (\"0 0 5\", \"No solution.\"),\n",
    "    (\"0 2 -8\", \"2 -2\"),\n",
    "    (\"1 -5 4\", \"2 -2 1 -1\"),\n",
    "    (\"1 2 3\", \"No solution.\"),\n",
    "    (\"1 -2 1\", \"1 -1\"),\n",
    "    (\"1 1 0\", \"0\"),\n",
    "]"
   ]
  },
  {
   "cell_type": "code",
   "execution_count": 21,
   "id": "c7fcb4c2",
   "metadata": {},
   "outputs": [],
   "source": [
    "in_file = Path(f\"input_test_case.inp\")\n",
    "\n",
    "# xóa file cũ để tránh trùng dữ liệu\n",
    "if in_file.exists():\n",
    "    in_file.unlink()\n",
    "\n",
    "# ghi toàn bộ test case vào 1 file duy nhất\n",
    "with open(in_file, \"a\") as f:\n",
    "    for test_case, expected in tcs:\n",
    "        f.write(str(test_case) + \"\\n\")\n"
   ]
  },
  {
   "cell_type": "code",
   "execution_count": 26,
   "id": "0f16757d",
   "metadata": {},
   "outputs": [
    {
     "name": "stdout",
     "output_type": "stream",
     "text": [
      " Input                                         Output             Expected\n",
      " 0 0 0                            Infinite solutions.  Infinite solutions.\n",
      " 0 0 5                                   No solution.         No solution.\n",
      "0 2 -8      The equation has 2 real solution(s): 2 -2                 2 -2\n",
      "1 -5 4 The equation has 4 real solution(s): 2 -2 1 -1            2 -2 1 -1\n",
      " 1 2 3                                   No solution.         No solution.\n",
      "1 -2 1      The equation has 2 real solution(s): 1 -1                 1 -1\n",
      " 1 1 0      The equation has 2 real solution(s): 0 -0                    0\n"
     ]
    }
   ],
   "source": [
    "exe_file = Path(\"practice.exe\")\n",
    "df = pd.DataFrame({\"Input\": [], \"Output\": [], \"Expected\": []})\n",
    "\n",
    "\n",
    "# Biên dịch từng file cpp\n",
    "subprocess.run(\n",
    "    [\"g++\", \"pratice.cpp\", \"-o\", str(exe_file)],\n",
    "    check=True\n",
    ")\n",
    "\n",
    "with open(\"output\", \"w\") as outfile:\n",
    "    # Chạy từng test case\n",
    "    for i, (test_case, expected) in enumerate(tcs, start=1):\n",
    "        # Chạy file exe với input là test_case \n",
    "        output = subprocess.check_output(\n",
    "            str(exe_file),\n",
    "            input=str(test_case),\n",
    "            text=True\n",
    "        ).strip()\n",
    "\n",
    "        df.loc[len(df)] = [test_case, output, expected]\n",
    "        # line = f\"Test {i}: Input = {test_case} ; Output = {output} ; Expected = {expected}; \"\n",
    "\n",
    "    outfile.write(df.to_string(index=False))\n",
    "print(df.to_string(index=False))"
   ]
  }
 ],
 "metadata": {
  "kernelspec": {
   "display_name": "Python 3",
   "language": "python",
   "name": "python3"
  },
  "language_info": {
   "codemirror_mode": {
    "name": "ipython",
    "version": 3
   },
   "file_extension": ".py",
   "mimetype": "text/x-python",
   "name": "python",
   "nbconvert_exporter": "python",
   "pygments_lexer": "ipython3",
   "version": "3.11.9"
  }
 },
 "nbformat": 4,
 "nbformat_minor": 5
}
